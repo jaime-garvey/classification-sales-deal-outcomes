{
 "cells": [
  {
   "cell_type": "code",
   "execution_count": 33,
   "metadata": {},
   "outputs": [],
   "source": [
    "#import libraries\n",
    "import pickle"
   ]
  },
  {
   "cell_type": "markdown",
   "metadata": {},
   "source": [
    "# Import Data"
   ]
  },
  {
   "cell_type": "code",
   "execution_count": 34,
   "metadata": {},
   "outputs": [],
   "source": [
    "import psycopg2 as pg\n",
    "from psycopg2.extensions import ISOLATION_LEVEL_AUTOCOMMIT\n",
    "\n",
    "params = {\n",
    "    'host': '18.191.170.156',\n",
    "    'user': 'ubuntu',\n",
    "    'port': 5432\n",
    "}"
   ]
  },
  {
   "cell_type": "code",
   "execution_count": 21,
   "metadata": {},
   "outputs": [],
   "source": [
    "#connect to database\n",
    "connection = pg.connect(**params, dbname='sales')\n",
    "salesops = pd.read_sql(\"SELECT * FROM salesops\", connection)"
   ]
  },
  {
   "cell_type": "code",
   "execution_count": 28,
   "metadata": {
    "collapsed": true
   },
   "outputs": [
    {
     "name": "stdout",
     "output_type": "stream",
     "text": [
      "<class 'pandas.core.frame.DataFrame'>\n",
      "RangeIndex: 78025 entries, 0 to 78024\n",
      "Data columns (total 19 columns):\n",
      "oppid           78025 non-null int64\n",
      "subgroup        78025 non-null object\n",
      "maingroup       78025 non-null object\n",
      "region          78025 non-null object\n",
      "route           78025 non-null object\n",
      "daysinstage     78025 non-null int64\n",
      "oppoutcome      78025 non-null object\n",
      "stagechanges    78025 non-null int64\n",
      "daystoclose     78025 non-null int64\n",
      "daystoqual      78025 non-null int64\n",
      "oppvalue        78025 non-null int64\n",
      "sizebyrev       78025 non-null int64\n",
      "sizebyee        78025 non-null int64\n",
      "pastsale        78025 non-null int64\n",
      "competitor      78025 non-null object\n",
      "ratioidtot      78025 non-null float64\n",
      "ratiovaltot     78025 non-null float64\n",
      "ratioqualtot    78025 non-null float64\n",
      "dealsizecat     78025 non-null int64\n",
      "dtypes: float64(3), int64(10), object(6)\n",
      "memory usage: 11.3+ MB\n"
     ]
    }
   ],
   "source": [
    "salesops.info()"
   ]
  },
  {
   "cell_type": "code",
   "execution_count": 35,
   "metadata": {},
   "outputs": [],
   "source": [
    "#connect to database\n",
    "connection = pg.connect(**params, dbname='sales')\n",
    "leads = pd.read_sql(\"SELECT * FROM leads\", connection)"
   ]
  },
  {
   "cell_type": "code",
   "execution_count": 37,
   "metadata": {},
   "outputs": [],
   "source": [
    "#save dataframe as pickle file\n",
    "\n",
    "with open('leads.pickle', 'wb') as to_write:\n",
    "    pickle.dump(leads, to_write)"
   ]
  },
  {
   "cell_type": "code",
   "execution_count": 29,
   "metadata": {},
   "outputs": [],
   "source": [
    "#save dataframe as pickle file\n",
    "\n",
    "with open('salesops.pickle', 'wb') as to_write:\n",
    "    pickle.dump(salesops, to_write)"
   ]
  },
  {
   "cell_type": "markdown",
   "metadata": {},
   "source": []
  },
  {
   "cell_type": "markdown",
   "metadata": {},
   "source": []
  },
  {
   "cell_type": "code",
   "execution_count": null,
   "metadata": {},
   "outputs": [],
   "source": []
  }
 ],
 "metadata": {
  "kernelspec": {
   "display_name": "Python 3",
   "language": "python",
   "name": "python3"
  },
  "language_info": {
   "codemirror_mode": {
    "name": "ipython",
    "version": 3
   },
   "file_extension": ".py",
   "mimetype": "text/x-python",
   "name": "python",
   "nbconvert_exporter": "python",
   "pygments_lexer": "ipython3",
   "version": "3.7.1"
  }
 },
 "nbformat": 4,
 "nbformat_minor": 2
}
