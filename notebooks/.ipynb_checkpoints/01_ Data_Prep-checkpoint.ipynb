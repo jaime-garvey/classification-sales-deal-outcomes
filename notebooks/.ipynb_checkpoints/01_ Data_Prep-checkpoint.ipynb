{
 "cells": [
  {
   "cell_type": "markdown",
   "metadata": {},
   "source": [
    "Getting Started |  **Data Prep**  |  Data Exploration  |  Preprocessing  |  Model Tuning  |  Final Model"
   ]
  },
  {
   "cell_type": "code",
   "execution_count": 2,
   "metadata": {},
   "outputs": [],
   "source": [
    "import pandas as pd\n",
    "import numpy as np\n",
    "\n",
    "from sklearn.model_selection import train_test_split"
   ]
  },
  {
   "cell_type": "markdown",
   "metadata": {},
   "source": [
    "## Calling Helper Functions"
   ]
  },
  {
   "cell_type": "code",
   "execution_count": 3,
   "metadata": {},
   "outputs": [],
   "source": [
    "# adding the modules directory to path\n",
    "import sys\n",
    "sys.path.insert(0, '../modules')\n",
    "\n",
    "# reading in functions\n",
    "from helpers import read_in_dataset"
   ]
  },
  {
   "cell_type": "markdown",
   "metadata": {},
   "source": [
    "## Read in Data"
   ]
  },
  {
   "cell_type": "code",
   "execution_count": 4,
   "metadata": {},
   "outputs": [
    {
     "name": "stdout",
     "output_type": "stream",
     "text": [
      "\n",
      "------- Reading in the following dataset: WA_Fn-UseC_-Sales-Win-Loss.csv--------\n",
      "\n",
      " Shape: 78025 rows and 19 columns\n",
      "\n",
      "------------------------- It has the following columns -------------------------\n",
      "\n",
      "Index([u'Opportunity Number', u'Supplies Subgroup', u'Supplies Group',\n",
      "       u'Region', u'Route To Market', u'Elapsed Days In Sales Stage',\n",
      "       u'Opportunity Result', u'Sales Stage Change Count',\n",
      "       u'Total Days Identified Through Closing',\n",
      "       u'Total Days Identified Through Qualified', u'Opportunity Amount USD',\n",
      "       u'Client Size By Revenue', u'Client Size By Employee Count',\n",
      "       u'Revenue From Client Past Two Years', u'Competitor Type',\n",
      "       u'Ratio Days Identified To Total Days',\n",
      "       u'Ratio Days Validated To Total Days',\n",
      "       u'Ratio Days Qualified To Total Days', u'Deal Size Category'],\n",
      "      dtype='object')\n",
      "\n",
      "----------------------- The first 5 rows look like this ------------------------\n",
      "\n",
      "   Opportunity Number     Supplies Subgroup          Supplies Group  \\\n",
      "0             1641984  Exterior Accessories         Car Accessories   \n",
      "1             1658010  Exterior Accessories         Car Accessories   \n",
      "2             1674737      Motorcycle Parts  Performance & Non-auto   \n",
      "3             1675224         Shelters & RV  Performance & Non-auto   \n",
      "4             1689785  Exterior Accessories         Car Accessories   \n",
      "\n",
      "      Region Route To Market  Elapsed Days In Sales Stage Opportunity Result  \\\n",
      "0  Northwest    Fields Sales                           76                Won   \n",
      "1    Pacific        Reseller                           63               Loss   \n",
      "2    Pacific        Reseller                           24                Won   \n",
      "3    Midwest        Reseller                           16               Loss   \n",
      "4    Pacific        Reseller                           69               Loss   \n",
      "\n",
      "   Sales Stage Change Count  Total Days Identified Through Closing  \\\n",
      "0                        13                                    104   \n",
      "1                         2                                    163   \n",
      "2                         7                                     82   \n",
      "3                         5                                    124   \n",
      "4                        11                                     91   \n",
      "\n",
      "   Total Days Identified Through Qualified  Opportunity Amount USD  \\\n",
      "0                                      101                       0   \n",
      "1                                      163                       0   \n",
      "2                                       82                    7750   \n",
      "3                                      124                       0   \n",
      "4                                       13                   69756   \n",
      "\n",
      "   Client Size By Revenue  Client Size By Employee Count  \\\n",
      "0                       5                              5   \n",
      "1                       3                              5   \n",
      "2                       1                              1   \n",
      "3                       1                              1   \n",
      "4                       1                              1   \n",
      "\n",
      "   Revenue From Client Past Two Years Competitor Type  \\\n",
      "0                                   0         Unknown   \n",
      "1                                   0         Unknown   \n",
      "2                                   0         Unknown   \n",
      "3                                   0           Known   \n",
      "4                                   0         Unknown   \n",
      "\n",
      "   Ratio Days Identified To Total Days  Ratio Days Validated To Total Days  \\\n",
      "0                              0.69636                            0.113985   \n",
      "1                              0.00000                            1.000000   \n",
      "2                              1.00000                            0.000000   \n",
      "3                              1.00000                            0.000000   \n",
      "4                              0.00000                            0.141125   \n",
      "\n",
      "   Ratio Days Qualified To Total Days  Deal Size Category  \n",
      "0                            0.154215                   1  \n",
      "1                            0.000000                   1  \n",
      "2                            0.000000                   1  \n",
      "3                            0.000000                   1  \n",
      "4                            0.000000                   4  \n"
     ]
    }
   ],
   "source": [
    "sales_data = read_in_dataset(dataset='WA_Fn-UseC_-Sales-Win-Loss.csv', verbose=True)"
   ]
  },
  {
   "cell_type": "markdown",
   "metadata": {},
   "source": [
    "## Split Data into Train and Test"
   ]
  },
  {
   "cell_type": "code",
   "execution_count": 5,
   "metadata": {},
   "outputs": [],
   "source": [
    "# Split up data into train and test\n",
    "sales_data_train, sales_data_test = train_test_split(sales_data, test_size = 0.3, random_state = 0)"
   ]
  },
  {
   "cell_type": "code",
   "execution_count": 6,
   "metadata": {},
   "outputs": [
    {
     "data": {
      "text/plain": [
       "True"
      ]
     },
     "execution_count": 6,
     "metadata": {},
     "output_type": "execute_result"
    }
   ],
   "source": [
    "# check to make sure the lenth of train and test data is the same all full dataset\n",
    "len(sales_data) == len(sales_data_train) + len(sales_data_test)"
   ]
  },
  {
   "cell_type": "code",
   "execution_count": 7,
   "metadata": {},
   "outputs": [],
   "source": [
    "# Save Train and Test data to processed data folder/\n",
    "sales_data_train.to_csv('../data/processed/sales_data_train.csv', index=False)\n",
    "sales_data_test.to_csv('../data/processed/sales_data_test.csv', index=False)"
   ]
  },
  {
   "cell_type": "code",
   "execution_count": null,
   "metadata": {},
   "outputs": [],
   "source": []
  }
 ],
 "metadata": {
  "kernelspec": {
   "display_name": "Python [conda env:general]",
   "language": "python",
   "name": "conda-env-general-py"
  },
  "language_info": {
   "codemirror_mode": {
    "name": "ipython",
    "version": 2
   },
   "file_extension": ".py",
   "mimetype": "text/x-python",
   "name": "python",
   "nbconvert_exporter": "python",
   "pygments_lexer": "ipython2",
   "version": "2.7.15"
  }
 },
 "nbformat": 4,
 "nbformat_minor": 2
}
