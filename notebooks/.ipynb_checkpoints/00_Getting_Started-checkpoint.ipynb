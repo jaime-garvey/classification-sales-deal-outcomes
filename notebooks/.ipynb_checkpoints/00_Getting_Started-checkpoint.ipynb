{
 "cells": [
  {
   "cell_type": "markdown",
   "metadata": {},
   "source": [
    "# Sales Deals Classification: Getting Started\n",
    "\n",
    "## Understanding the Problem\n",
    "\n",
    "> Sometimes there can be a misalignment with sales and marketing. Marketing may want to prioritize the quantity of marketing qualified leads (MQL's) which Sales wants quality leads or leads that are most likely to convert.\n",
    "\n",
    "## Target Question \n",
    "> How can we help sales (account executives) prioritize deals?\n",
    "\n",
    "## Objectives\n",
    "* Determine key characteristics of won sales to understand which factors are most influencial to the deal outcome\n",
    "* Predict how likely a sales deal is to close to inform sales reps on which deals they should prioritize.\n",
    "\n",
    "\n",
    "## Dataset\n",
    "\n",
    "> The dataset consists of IBM sales data which includes won and lost opportunities as well as characteristics such as deal size, product lines, and region.\n",
    "\n",
    "### Key Files\n",
    "* ```WA_Fn-UseC_-Sales-Win-Loss.csv``` - raw unprocessed data\n"
   ]
  },
  {
   "cell_type": "markdown",
   "metadata": {},
   "source": []
  }
 ],
 "metadata": {
  "kernelspec": {
   "display_name": "Python [conda env:general]",
   "language": "python",
   "name": "conda-env-general-py"
  },
  "language_info": {
   "codemirror_mode": {
    "name": "ipython",
    "version": 2
   },
   "file_extension": ".py",
   "mimetype": "text/x-python",
   "name": "python",
   "nbconvert_exporter": "python",
   "pygments_lexer": "ipython2",
   "version": "2.7.15"
  }
 },
 "nbformat": 4,
 "nbformat_minor": 2
}
